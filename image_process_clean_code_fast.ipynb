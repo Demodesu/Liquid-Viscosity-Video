{
 "cells": [
  {
   "cell_type": "markdown",
   "metadata": {},
   "source": [
    "Goal - determine viscosity of liquid using video"
   ]
  },
  {
   "cell_type": "markdown",
   "metadata": {},
   "source": [
    "### import libraries"
   ]
  },
  {
   "cell_type": "code",
   "execution_count": 10,
   "metadata": {},
   "outputs": [],
   "source": [
    "import cv2\n",
    "import os\n",
    "import pathlib\n",
    "from PIL import Image, ImageEnhance, ImageFilter, ImageOps\n",
    "import matplotlib.pyplot as plt\n",
    "import numpy as np\n",
    "import pandas as pd\n",
    "import sys\n",
    "\n",
    "from sklearn.cluster import DBSCAN\n",
    "from sklearn.cluster import KMeans\n",
    "\n",
    "np.set_printoptions(threshold=sys.maxsize)"
   ]
  },
  {
   "cell_type": "markdown",
   "metadata": {},
   "source": [
    "### change path"
   ]
  },
  {
   "cell_type": "code",
   "execution_count": 11,
   "metadata": {},
   "outputs": [],
   "source": [
    "path = os.path.abspath('')\n",
    "os.chdir(f'{path}')"
   ]
  },
  {
   "cell_type": "markdown",
   "metadata": {},
   "source": [
    "### save video as frames"
   ]
  },
  {
   "cell_type": "code",
   "execution_count": 12,
   "metadata": {},
   "outputs": [
    {
     "name": "stdout",
     "output_type": "stream",
     "text": [
      "{1: 350}\n"
     ]
    }
   ],
   "source": [
    "video_number = 1\n",
    "\n",
    "video_file_name = f'Gasoline_{video_number}.mp4'\n",
    "\n",
    "video_frames_dict = {}\n",
    "\n",
    "pathlib.Path(f'video{video_number}').mkdir(parents=True,exist_ok=True)\n",
    "\n",
    "file_name = f\"C:\\\\Gun's Stuff\\\\Coding\\\\Image Processing\\\\image processing script\\\\video\\\\{video_file_name}\"\n",
    "\n",
    "video = cv2.VideoCapture(file_name)\n",
    "success,image = video.read()\n",
    "count = 0\n",
    "\n",
    "while success:\n",
    "\n",
    "    cv2.imwrite(f'video{video_number}\\\\frame{count}.jpg',image)\n",
    "    success,image = video.read()\n",
    "    count += 1\n",
    "\n",
    "video_frames_dict[video_number] = count\n",
    "\n",
    "print(video_frames_dict)"
   ]
  },
  {
   "cell_type": "markdown",
   "metadata": {},
   "source": [
    "### image processing function"
   ]
  },
  {
   "cell_type": "code",
   "execution_count": 13,
   "metadata": {},
   "outputs": [],
   "source": [
    "brightness_enhancer_value = 1.5\n",
    "contrast_enhancer_value = 6"
   ]
  },
  {
   "cell_type": "code",
   "execution_count": 14,
   "metadata": {},
   "outputs": [],
   "source": [
    "def image_processing(image):\n",
    "\n",
    "    brightness_enhancer = ImageEnhance.Brightness(image)\n",
    "    image = brightness_enhancer.enhance(brightness_enhancer_value) # to reduce brightness by 50%, use factor 0.5\n",
    "\n",
    "    contrast_enhancer = ImageEnhance.Contrast(image)\n",
    "    image = contrast_enhancer.enhance(contrast_enhancer_value)\n",
    "\n",
    "    image = image.convert('1')\n",
    "\n",
    "    image = image.filter(ImageFilter.BLUR)\n",
    "\n",
    "    image_width, image_height = image.size\n",
    "    image = image.crop(((100,320,image_width-300,image_height-300))) # (left,upper,right,lower)\n",
    "\n",
    "    return image"
   ]
  },
  {
   "cell_type": "markdown",
   "metadata": {},
   "source": [
    "### save black and white image"
   ]
  },
  {
   "cell_type": "code",
   "execution_count": 15,
   "metadata": {},
   "outputs": [
    {
     "name": "stdout",
     "output_type": "stream",
     "text": [
      "{1: 350}\n"
     ]
    }
   ],
   "source": [
    "video_number = 1\n",
    "\n",
    "video_file_name = f'Gasoline_{video_number}.mp4'\n",
    "\n",
    "video_frames_dict = {}\n",
    "\n",
    "pathlib.Path(f'videobw{video_number}').mkdir(parents=True,exist_ok=True)\n",
    "\n",
    "file_name = f\"C:\\\\Gun's Stuff\\\\Coding\\\\Image Processing\\\\image processing script\\\\video\\\\{video_file_name}\"\n",
    "\n",
    "video = cv2.VideoCapture(file_name)\n",
    "success,image = video.read()\n",
    "count = 0\n",
    "\n",
    "while success:\n",
    "\n",
    "    image = Image.fromarray(image)\n",
    "    image = image_processing(image)\n",
    "    image = np.asarray(image).astype(np.uint8)*255\n",
    "\n",
    "    cv2.imwrite(f'videobw{video_number}\\\\frame{count}.jpg',image)\n",
    "    success,image = video.read()\n",
    "    count += 1\n",
    "\n",
    "video_frames_dict[video_number] = count\n",
    "\n",
    "print(video_frames_dict)"
   ]
  },
  {
   "cell_type": "markdown",
   "metadata": {},
   "source": [
    "### process"
   ]
  },
  {
   "cell_type": "code",
   "execution_count": 16,
   "metadata": {},
   "outputs": [],
   "source": [
    "for video_number,video_total_frames in video_frames_dict.items():\n",
    "\n",
    "    folder_name = f\"C:\\\\Gun's Stuff\\\\Coding\\\\Image Processing\\\\image processing script V2\\\\video{video_number}\" \n",
    "\n",
    "    for frame in range(video_total_frames):\n",
    "\n",
    "        image = Image.open(f'{folder_name}\\\\frame{frame}.jpg')\n",
    "\n",
    "        image = image_processing(image)\n",
    "\n",
    "        image.save(f'videobw{video_number}\\\\frame{frame}.jpg')"
   ]
  },
  {
   "cell_type": "code",
   "execution_count": 17,
   "metadata": {},
   "outputs": [
    {
     "name": "stdout",
     "output_type": "stream",
     "text": [
      "image number 237\n",
      "cluster 0 - x centroid: 54.559322033898304\n",
      "cluster 0 - y centroid: 56.3728813559322\n",
      "cluster 1 - x centroid: 55.13513513513514\n",
      "cluster 1 - y centroid: 37.21621621621622\n",
      "distance from each centroid: 19.16531711198032\n",
      "image number 238\n",
      "cluster 0 - x centroid: 52.0625\n",
      "cluster 0 - y centroid: 78.54166666666667\n",
      "cluster 1 - x centroid: 54.559322033898304\n",
      "cluster 1 - y centroid: 56.3728813559322\n",
      "distance from each centroid: 22.308948034867008\n",
      "image number 239\n",
      "cluster 0 - x centroid: 48.69230769230769\n",
      "cluster 0 - y centroid: 101.46153846153847\n",
      "cluster 1 - x centroid: 52.0625\n",
      "cluster 1 - y centroid: 78.54166666666667\n",
      "distance from each centroid: 23.1663272722326\n"
     ]
    },
    {
     "data": {
      "image/png": "[encoded data removed]",
      "text/plain": [
       "<Figure size 500x2000 with 349 Axes>"
      ]
     },
     "metadata": {},
     "output_type": "display_data"
    },
    {
     "data": {
      "image/png": "[encoded data removed]",
      "text/plain": [
       "<Figure size 500x2000 with 349 Axes>"
      ]
     },
     "metadata": {},
     "output_type": "display_data"
    }
   ],
   "source": [
    "fig = plt.figure(figsize=(5,20))\n",
    "fig2 = plt.figure(figsize=(5,20))\n",
    "\n",
    "amount_of_axes = int(np.ceil(np.sqrt(video_frames_dict[1])))\n",
    "current_row = 0\n",
    "current_col = -1\n",
    "\n",
    "amount_of_frames = video_frames_dict[1]\n",
    "\n",
    "color_cycler = plt.rcParams['axes.prop_cycle'].by_key()['color']\n",
    "\n",
    "distance_list = []\n",
    "\n",
    "for image_number in range(amount_of_frames):\n",
    "\n",
    "    if image_number != amount_of_frames - 1:\n",
    "\n",
    "        current_frame = image_number\n",
    "        next_frame = current_frame + 1\n",
    "\n",
    "        if image_number == amount_of_frames - 1:\n",
    "\n",
    "            current_frame = image_number\n",
    "            next_frame = current_frame       \n",
    "\n",
    "        current_col += 1\n",
    "\n",
    "        if current_col == amount_of_axes:\n",
    "\n",
    "            current_row += 1\n",
    "            current_col = 0\n",
    "\n",
    "        ax = plt.subplot2grid((amount_of_axes,amount_of_axes),(current_row,current_col),fig=fig)\n",
    "\n",
    "        image_0 = Image.open(f'videobw{video_number}\\\\frame{current_frame}.jpg')\n",
    "        image_1 = Image.open(f'videobw{video_number}\\\\frame{next_frame}.jpg')\n",
    "\n",
    "        image_0 = ImageOps.invert(image_0)\n",
    "        image_1 = ImageOps.invert(image_1)\n",
    "\n",
    "        image_0_numpy_array = np.array(image_0)    \n",
    "        image_1_numpy_array = np.array(image_1)\n",
    "\n",
    "        difference_between_image_0_and_1 = image_0_numpy_array + image_1_numpy_array\n",
    "\n",
    "        difference_between_image_0_and_1[difference_between_image_0_and_1 > 255/2] = 255\n",
    "        difference_between_image_0_and_1[difference_between_image_0_and_1 <= 255/2] = 0\n",
    "\n",
    "        # show image\n",
    "\n",
    "        ax.imshow(array_to_image)\n",
    "\n",
    "        ax.set_xticklabels([])\n",
    "        ax.set_yticklabels([])\n",
    "        ax.axis('off')\n",
    "\n",
    "        # DBSCAN\n",
    "\n",
    "        df_points = pd.DataFrame(difference_between_image_0_and_1)\n",
    "        \n",
    "        df_points[df_points > 1] = 1\n",
    "\n",
    "        point_array = []\n",
    "\n",
    "        for df_col in df_points.columns: \n",
    "\n",
    "            for df_row in df_points.index:\n",
    "\n",
    "                if df_points[df_col].loc[df_row] == 1:\n",
    "\n",
    "                    point_array.append([df_col,df_row])\n",
    "\n",
    "        array_to_image = Image.fromarray(difference_between_image_0_and_1)\n",
    "\n",
    "        DBSCAN_model = DBSCAN(eps=10,min_samples=30)\n",
    "        DBSCAN_model.fit(point_array)\n",
    "\n",
    "        clusters = DBSCAN_model.labels_\n",
    "\n",
    "        ax2 = plt.subplot2grid((amount_of_axes,amount_of_axes),(current_row,current_col),fig=fig2)\n",
    "\n",
    "        x_y_coordinate_df = pd.DataFrame(point_array,columns=['x','y'])\n",
    "        x_y_coordinate_df['clusters'] = clusters\n",
    "\n",
    "        unique_clusters_set = set(clusters)\n",
    "        unique_clusters_list = list(unique_clusters_set)\n",
    "\n",
    "        unique_color_code_list = []\n",
    "\n",
    "        for unique_color in unique_clusters_list:\n",
    "\n",
    "            unique_color_code_list.append(color_cycler[unique_color])\n",
    "\n",
    "        df_color_list = []\n",
    "\n",
    "        for df_row in x_y_coordinate_df['clusters'].index:\n",
    "\n",
    "            cluster = x_y_coordinate_df['clusters'].loc[df_row]\n",
    "\n",
    "            df_color_list.append(unique_color_code_list[unique_clusters_list.index(cluster)])\n",
    "\n",
    "        x_y_coordinate_df['color'] = df_color_list\n",
    "\n",
    "        ax2.set_xticklabels([])\n",
    "        ax2.set_yticklabels([])\n",
    "        ax2.set_xlim(ax.get_xlim())\n",
    "        ax2.set_ylim(ax.get_ylim())\n",
    "        ax2.axis('off')\n",
    "\n",
    "        if len(unique_color_code_list) > 2 and -1 not in unique_color_code_list:\n",
    "\n",
    "            print(f'image number {image_number}')\n",
    "\n",
    "            cluster_0_df = x_y_coordinate_df[x_y_coordinate_df['clusters'] == 0]\n",
    "            cluster_1_df = x_y_coordinate_df[x_y_coordinate_df['clusters'] == 1]\n",
    "\n",
    "            cluster_0_x = cluster_0_df['x'].mean()\n",
    "            cluster_0_y = cluster_0_df['y'].mean()\n",
    "            cluster_1_x = cluster_1_df['x'].mean()\n",
    "            cluster_1_y = cluster_1_df['y'].mean()\n",
    "\n",
    "            print(f'cluster 0 - x centroid: {cluster_0_x}')\n",
    "            print(f'cluster 0 - y centroid: {cluster_0_y}')\n",
    "            print(f'cluster 1 - x centroid: {cluster_1_x}')\n",
    "            print(f'cluster 1 - y centroid: {cluster_1_y}')\n",
    "\n",
    "            print(f'distance from each centroid: {((cluster_0_x-cluster_1_x)**2+(cluster_0_y-cluster_1_y)**2)**0.5}')\n",
    "\n",
    "            ax2.scatter(x_y_coordinate_df['x'],x_y_coordinate_df['y'],color=x_y_coordinate_df['color'],s=1)\n",
    "            ax2.plot([cluster_0_x,cluster_1_x],[cluster_0_y,cluster_1_y],color='red')\n",
    "\n",
    "            distance_list.append(((cluster_0_x-cluster_1_x)**2+(cluster_0_y-cluster_1_y)**2)**0.5)\n",
    "\n",
    "            ax2.text(cluster_0_x,cluster_0_y,f'{((cluster_0_x-cluster_1_x)**2+(cluster_0_y-cluster_1_y)**2)**0.5:.2f}',fontsize='x-small')\n",
    "\n",
    "plt.subplots_adjust(wspace=0,hspace=0.1)\n",
    "plt.show()"
   ]
  },
  {
   "attachments": {
    "image.png": {
     "image/png": "[encoded data removed]"
    }
   },
   "cell_type": "markdown",
   "metadata": {},
   "source": [
    "to get liquid viscosity, the free body diagram equation for Fbuoyancy, Fdrag, and Fgravity can be arranged to be:\n",
    "\n",
    "![image.png](attachment:image.png)\n",
    "\n",
    "where D is ball diameter, Pb is density of ball, Pl is density of liquid, g is gravity (9.8 m<sup>2</sup>/s), and v is ball velocity"
   ]
  },
  {
   "cell_type": "markdown",
   "metadata": {},
   "source": [
    "video is 29.97 frames per second (check in properties -> details tab of video)"
   ]
  },
  {
   "cell_type": "code",
   "execution_count": 18,
   "metadata": {},
   "outputs": [
    {
     "name": "stdout",
     "output_type": "stream",
     "text": [
      "the average distance traveled is: 23.1663272722326 pixels\n",
      "graph height is: 339.5 pixels\n",
      "converting to cm (column is 38cm tall): 2.599814636442009 cm\n",
      "1 second has 30 frames (30 fps)\n",
      "therefore, 1 frame is 1/30 seconds\n",
      "taking the amount distance traveled (2.599814636442009 cm) divided by time (1/30 seconds)\n",
      "the velocity would be equal to 77.91644465416701 cm/s\n",
      "or 0.77916444654167 m/s\n"
     ]
    }
   ],
   "source": [
    "distance = max(distance_list)\n",
    "\n",
    "frames_per_second = 29.97\n",
    "graph_height = ax.get_ylim()[0]\n",
    "column_height = 38.1\n",
    "seconds_per_frame = 1/frames_per_second\n",
    "\n",
    "print(f'the average distance traveled is: {distance} pixels')\n",
    "print(f'graph height is: {graph_height} pixels')\n",
    "print(f'converting to cm (column is {column_height:.0f}cm tall): {(distance/graph_height)*column_height} cm')\n",
    "print(f'1 second has {frames_per_second:.0f} frames ({frames_per_second:.0f} fps)')\n",
    "print(f'therefore, 1 frame is 1/{frames_per_second:.0f} seconds')\n",
    "print(f'taking the amount distance traveled ({(distance/graph_height)*column_height} cm) divided by time (1/{frames_per_second:.0f} seconds)')\n",
    "print(f'the velocity would be equal to {((distance/graph_height)*column_height) / (seconds_per_frame)} cm/s')\n",
    "print(f'or {(((distance/graph_height)*column_height) / (seconds_per_frame)) / 100} m/s')\n",
    "\n",
    "ball_velocity = (((distance/graph_height)*column_height) / (seconds_per_frame)) / 100"
   ]
  },
  {
   "cell_type": "markdown",
   "metadata": {},
   "source": [
    "assuming ball density to be 3165kg/m<sup>3</sup>  (stainless steel), liquid density to be 737.2kg/m<sup>3</sup> (gasoline), and D to be 0.015m"
   ]
  },
  {
   "cell_type": "code",
   "execution_count": 19,
   "metadata": {},
   "outputs": [
    {
     "name": "stdout",
     "output_type": "stream",
     "text": [
      "the estimated liquid viscosity is 0.38 kg/m*s (pascal seconds)\n"
     ]
    }
   ],
   "source": [
    "ball_density = 3165 #kg/m^3\n",
    "liquid_density = 737.2 #kg/m^3\n",
    "ball_diameter = 0.015 #m\n",
    "gravity = 9.8 #m/s^2\n",
    "\n",
    "liquid_viscosity = ((ball_diameter**2)*(ball_density-liquid_density)*(gravity))/(18*ball_velocity) # kg/m*s or pascal seconds\n",
    "\n",
    "print(f'the estimated liquid viscosity is {liquid_viscosity:.2f} kg/m*s (pascal seconds)')"
   ]
  }
 ],
 "metadata": {
  "kernelspec": {
   "display_name": "venv",
   "language": "python",
   "name": "python3"
  },
  "language_info": {
   "codemirror_mode": {
    "name": "ipython",
    "version": 3
   },
   "file_extension": ".py",
   "mimetype": "text/x-python",
   "name": "python",
   "nbconvert_exporter": "python",
   "pygments_lexer": "ipython3",
   "version": "3.11.6"
  }
 },
 "nbformat": 4,
 "nbformat_minor": 2
}
